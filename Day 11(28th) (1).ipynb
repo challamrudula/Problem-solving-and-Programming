{
 "cells": [
  {
   "cell_type": "code",
   "execution_count": 4,
   "metadata": {},
   "outputs": [
    {
     "ename": "SyntaxError",
     "evalue": "unexpected EOF while parsing (<ipython-input-4-80266120f559>, line 5)",
     "output_type": "error",
     "traceback": [
      "\u001b[1;36m  File \u001b[1;32m\"<ipython-input-4-80266120f559>\"\u001b[1;36m, line \u001b[1;32m5\u001b[0m\n\u001b[1;33m    \u001b[0m\n\u001b[1;37m    ^\u001b[0m\n\u001b[1;31mSyntaxError\u001b[0m\u001b[1;31m:\u001b[0m unexpected EOF while parsing\n"
     ]
    }
   ],
   "source": [
    "class className:\n",
    "    #some functions and variables\n",
    "    #function-- used to  perform some certain activity\n",
    "    #variable--data(memory)\n",
    "        "
   ]
  },
  {
   "cell_type": "code",
   "execution_count": 5,
   "metadata": {},
   "outputs": [
    {
     "ename": "SyntaxError",
     "evalue": "invalid syntax (<ipython-input-5-a666fbbcd14e>, line 1)",
     "output_type": "error",
     "traceback": [
      "\u001b[1;36m  File \u001b[1;32m\"<ipython-input-5-a666fbbcd14e>\"\u001b[1;36m, line \u001b[1;32m1\u001b[0m\n\u001b[1;33m    def demo:\u001b[0m\n\u001b[1;37m            ^\u001b[0m\n\u001b[1;31mSyntaxError\u001b[0m\u001b[1;31m:\u001b[0m invalid syntax\n"
     ]
    }
   ],
   "source": [
    "def demo:\n",
    "    return\n",
    "test()\n"
   ]
  },
  {
   "cell_type": "code",
   "execution_count": 8,
   "metadata": {},
   "outputs": [
    {
     "name": "stdout",
     "output_type": "stream",
     "text": [
      "test()for the class and method\n"
     ]
    }
   ],
   "source": [
    "class demo:\n",
    "    def test(self):\n",
    "        print(\"test()for the class and method\")\n",
    "        return\n",
    "obj=demo()\n",
    "obj.test()"
   ]
  },
  {
   "cell_type": "code",
   "execution_count": 16,
   "metadata": {},
   "outputs": [
    {
     "name": "stdout",
     "output_type": "stream",
     "text": [
      "120\n"
     ]
    }
   ],
   "source": [
    "class demo1:\n",
    "    def fact(self,n):\n",
    "        #return the factorial\n",
    "        fact=1\n",
    "        while(n!=0):\n",
    "            fact=fact*n\n",
    "            n=n-1\n",
    "        return fact\n",
    "p1=demo1()\n",
    "print(p1.fact(5))"
   ]
  },
  {
   "cell_type": "code",
   "execution_count": 27,
   "metadata": {},
   "outputs": [
    {
     "name": "stdout",
     "output_type": "stream",
     "text": [
      "300\n"
     ]
    }
   ],
   "source": [
    "class Demo2:\n",
    "    def __init__(self,p1,p2):\n",
    "        self.p1=p1\n",
    "        self.p2=p2\n",
    "        \n",
    "    def add(self,p1,p2):\n",
    "        return p1+p2\n",
    "        \n",
    "c1=Demo2(10,20)\n",
    "print(c1.add(100,200))\n",
    "\n"
   ]
  },
  {
   "cell_type": "code",
   "execution_count": 36,
   "metadata": {},
   "outputs": [
    {
     "name": "stdout",
     "output_type": "stream",
     "text": [
      "Anil False\n",
      "raja True\n"
     ]
    }
   ],
   "source": [
    "#some inheritance\n",
    "\n",
    "class person(object):\n",
    "    #constructor\n",
    "    def __init__(self,name):\n",
    "        self.name=name\n",
    "    def getname(self):\n",
    "        return self.name\n",
    "    def isemployee(self):\n",
    "        return False\n",
    "    \n",
    "#Derived class\n",
    "class employee(person):\n",
    "    def isemployee(self):\n",
    "        return True\n",
    "    \n",
    "emp=person(\"Anil\")\n",
    "print(emp.getname(),emp.isemployee())\n",
    "\n",
    "emp1=employee(\"raja\")\n",
    "print(emp1.getname(),emp1.isemployee())\n",
    "\n",
    "    "
   ]
  },
  {
   "cell_type": "code",
   "execution_count": 38,
   "metadata": {},
   "outputs": [
    {
     "name": "stdout",
     "output_type": "stream",
     "text": [
      "[1 2 3 4]\n"
     ]
    }
   ],
   "source": [
    "import numpy as np\n",
    "lst=[1,2,3,4]\n",
    "array=np.array(lst)\n",
    "print(array)\n"
   ]
  },
  {
   "cell_type": "code",
   "execution_count": 39,
   "metadata": {},
   "outputs": [
    {
     "name": "stdout",
     "output_type": "stream",
     "text": [
      "(4,)\n",
      "int32\n"
     ]
    }
   ],
   "source": [
    "lst=[1,2,3,4]\n",
    "array=np.array(lst)\n",
    "print(array.shape)\n",
    "print(array.dtype)"
   ]
  },
  {
   "cell_type": "code",
   "execution_count": 43,
   "metadata": {},
   "outputs": [
    {
     "name": "stdout",
     "output_type": "stream",
     "text": [
      "(4,)\n",
      "float64\n"
     ]
    }
   ],
   "source": [
    "lst=[1.0,2.5,3.6,9.5]\n",
    "array=np.array(lst)\n",
    "print(array.shape)\n",
    "print(array.dtype)\n"
   ]
  },
  {
   "cell_type": "code",
   "execution_count": 41,
   "metadata": {},
   "outputs": [
    {
     "name": "stdout",
     "output_type": "stream",
     "text": [
      "(2, 3)\n",
      "(3, 2)\n"
     ]
    }
   ],
   "source": [
    "a1=np.array([(1,2,3),(4,5,6)])\n",
    "print(a1.shape)\n",
    "a2=np.array([(1,2),(3,4),(5,6)])\n",
    "print(a2.shape)"
   ]
  },
  {
   "cell_type": "code",
   "execution_count": 42,
   "metadata": {},
   "outputs": [
    {
     "name": "stdout",
     "output_type": "stream",
     "text": [
      "[[1 2 3]\n",
      " [4 5 6]]\n"
     ]
    },
    {
     "data": {
      "text/plain": [
       "array([[1, 2],\n",
       "       [3, 4],\n",
       "       [5, 6]])"
      ]
     },
     "execution_count": 42,
     "metadata": {},
     "output_type": "execute_result"
    }
   ],
   "source": [
    "#Re-shape the given array\n",
    "# numpy.reshape(arrayName,reshape,order='c')\n",
    "a1=np.array([(1,2,3),(4,5,6)])\n",
    "print(a1)\n",
    "a1.reshape(3,2)"
   ]
  },
  {
   "cell_type": "code",
   "execution_count": 45,
   "metadata": {},
   "outputs": [
    {
     "data": {
      "text/plain": [
       "array([[1, 1, 1],\n",
       "       [1, 1, 1],\n",
       "       [1, 1, 1],\n",
       "       [1, 1, 1]], dtype=int64)"
      ]
     },
     "execution_count": 45,
     "metadata": {},
     "output_type": "execute_result"
    }
   ],
   "source": [
    "#np.ones(shape,dtype=float,order='c')\n",
    "np.ones((4,3),dtype=np.int64)"
   ]
  },
  {
   "cell_type": "code",
   "execution_count": 47,
   "metadata": {},
   "outputs": [
    {
     "name": "stdout",
     "output_type": "stream",
     "text": [
      "[[1 1 1 1]\n",
      " [1 1 1 1]\n",
      " [1 1 1 1]\n",
      " [1 1 1 1]]\n"
     ]
    }
   ],
   "source": [
    "A=np.matrix(np.ones((4,4),dtype=np.int64))\n",
    "print(A)\n"
   ]
  },
  {
   "cell_type": "code",
   "execution_count": 48,
   "metadata": {},
   "outputs": [
    {
     "name": "stdout",
     "output_type": "stream",
     "text": [
      "[[1 1 1 1]\n",
      " [1 1 1 1]\n",
      " [5 5 5 5]\n",
      " [1 1 1 1]]\n"
     ]
    }
   ],
   "source": [
    "A=np.matrix(np.ones((4,4),dtype=np.int64))\n",
    "np.asarray(A)[2]=5\n",
    "print(A)\n"
   ]
  },
  {
   "cell_type": "code",
   "execution_count": 46,
   "metadata": {},
   "outputs": [
    {
     "name": "stdout",
     "output_type": "stream",
     "text": [
      "[[ 1  1  1  1]\n",
      " [ 1  1  1  5]\n",
      " [ 1  1  1  1]\n",
      " [ 1  1  1 23]]\n"
     ]
    }
   ],
   "source": [
    "\n",
    "A=np.matrix(np.ones((4,4),dtype=np.int64))\n",
    "np.asarray(A)[1][3]=5\n",
    "np.asarray(A)[3][3]=23\n",
    "print(A)\n"
   ]
  },
  {
   "cell_type": "code",
   "execution_count": 49,
   "metadata": {},
   "outputs": [
    {
     "name": "stdout",
     "output_type": "stream",
     "text": [
      "[[1 2 3]\n",
      " [4 5 6]]\n"
     ]
    }
   ],
   "source": [
    "a1=np.array([(1,2,3),(4,5,6)])\n",
    "print(a1)"
   ]
  },
  {
   "cell_type": "code",
   "execution_count": 50,
   "metadata": {},
   "outputs": [
    {
     "name": "stdout",
     "output_type": "stream",
     "text": [
      "first row: [1 2 3]\n"
     ]
    }
   ],
   "source": [
    "a1=np.array([(1,2,3),(4,5,6)])\n",
    "print(\"first row:\",a1[0])"
   ]
  },
  {
   "cell_type": "code",
   "execution_count": 51,
   "metadata": {},
   "outputs": [
    {
     "name": "stdout",
     "output_type": "stream",
     "text": [
      "slicing column: [2 5]\n"
     ]
    }
   ],
   "source": [
    "a1=np.array([(1,2,3),(4,5,6)])\n",
    "print(\"slicing column:\",a1[:,1])"
   ]
  },
  {
   "cell_type": "code",
   "execution_count": 52,
   "metadata": {},
   "outputs": [
    {
     "name": "stdout",
     "output_type": "stream",
     "text": [
      "second row: [1 2 3]\n"
     ]
    }
   ],
   "source": [
    "a1=np.array([(1,2,3),(4,5,6)])\n",
    "print(\"second row:\",a1[0])"
   ]
  },
  {
   "cell_type": "code",
   "execution_count": 53,
   "metadata": {},
   "outputs": [
    {
     "name": "stdout",
     "output_type": "stream",
     "text": [
      "[5.54608949 5.11484926 4.41230175 3.00074971 4.92066122 6.35027967\n",
      " 6.66711803 4.89158072 4.91544911 4.68239702]\n",
      "Min value= 3.0007497139552592\n",
      "Max value= 6.667118033277381\n",
      "Mean value= 5.050147599158125\n",
      "Median value= 4.918055161575536\n"
     ]
    }
   ],
   "source": [
    "a1=np.random.normal(5,1,10)\n",
    "print(a1)\n",
    "print(\"Min value=\",np.min(a1))\n",
    "print(\"Max value=\",np.max(a1))\n",
    "print(\"Mean value=\",np.mean(a1))\n",
    "print(\"Median value=\",np.median(a1))"
   ]
  },
  {
   "cell_type": "code",
   "execution_count": 54,
   "metadata": {},
   "outputs": [
    {
     "data": {
      "text/plain": [
       "14"
      ]
     },
     "execution_count": 54,
     "metadata": {},
     "output_type": "execute_result"
    }
   ],
   "source": [
    "c1=np.array([1,2])\n",
    "c2=np.array([4,5])\n",
    "np.dot(c1,c2)"
   ]
  },
  {
   "cell_type": "code",
   "execution_count": 55,
   "metadata": {},
   "outputs": [
    {
     "data": {
      "text/plain": [
       "array([[ 5,  8],\n",
       "       [13, 20]])"
      ]
     },
     "execution_count": 55,
     "metadata": {},
     "output_type": "execute_result"
    }
   ],
   "source": [
    "c1=np.array([(1,2),(3,4)])\n",
    "c2=np.array([(3,4),(1,2)])\n",
    "np.dot(c1,c2)"
   ]
  },
  {
   "cell_type": "code",
   "execution_count": 59,
   "metadata": {},
   "outputs": [
    {
     "data": {
      "text/plain": [
       "array([[ 6, 33],\n",
       "       [15, 72]])"
      ]
     },
     "execution_count": 59,
     "metadata": {},
     "output_type": "execute_result"
    }
   ],
   "source": [
    "b1=np.array([(1,5),(6,9)])\n",
    "b2=np.array([(1,3),(1,6)])\n",
    "np.matmul(b1,b2)"
   ]
  },
  {
   "cell_type": "markdown",
   "metadata": {},
   "source": []
  },
  {
   "cell_type": "code",
   "execution_count": 62,
   "metadata": {},
   "outputs": [
    {
     "name": "stdout",
     "output_type": "stream",
     "text": [
      "     Name           EmailID  Mobile Number\n",
      "0    Anil    anil@gmail.com             99\n",
      "1   Akhil   akhil@gmail.com             44\n",
      "2  Dinesh  dinesh@gmail.com             55\n",
      "3  Harsha  harsha@gmail.com             22\n",
      "4    Ajay    ajay@gmail.com             33\n",
      "5  Kranth  kranth@gmail.com             41\n"
     ]
    }
   ],
   "source": [
    "import pandas as pd\n",
    "dict={\"Name\":[\"Anil\",\"Akhil\",\"Dinesh\",\"Harsha\",\"Ajay\",\"Kranth\"],\n",
    "    \"EmailID\":[\"anil@gmail.com\",\"akhil@gmail.com\",\"dinesh@gmail.com\",\"harsha@gmail.com\",\"ajay@gmail.com\",\"kranth@gmail.com\"],\n",
    "    \"Mobile Number\":[99,44,55,22,33,41]}\n",
    "\n",
    "b=pd.DataFrame(dict)\n",
    "print(b)\n"
   ]
  },
  {
   "cell_type": "code",
   "execution_count": 63,
   "metadata": {},
   "outputs": [
    {
     "name": "stdout",
     "output_type": "stream",
     "text": [
      "      Name           EmailID  Mobile Number\n",
      "01    Anil    anil@gmail.com             99\n",
      "02   Akhil   akhil@gmail.com             44\n",
      "03  Dinesh  dinesh@gmail.com             55\n",
      "04  Harsha  harsha@gmail.com             22\n",
      "05    Ajay    ajay@gmail.com             33\n",
      "06  Kranth  kranth@gmail.com             41\n"
     ]
    }
   ],
   "source": [
    "b.index=[\"01\",\"02\",\"03\",\"04\",\"05\",\"06\"]\n",
    "print(b)"
   ]
  },
  {
   "cell_type": "code",
   "execution_count": null,
   "metadata": {},
   "outputs": [],
   "source": [
    "import pandas as pd\n",
    "products=pd.read_csv('filename.csv')\n",
    "print(products)\n"
   ]
  }
 ],
 "metadata": {
  "kernelspec": {
   "display_name": "Python 3",
   "language": "python",
   "name": "python3"
  },
  "language_info": {
   "codemirror_mode": {
    "name": "ipython",
    "version": 3
   },
   "file_extension": ".py",
   "mimetype": "text/x-python",
   "name": "python",
   "nbconvert_exporter": "python",
   "pygments_lexer": "ipython3",
   "version": "3.7.3"
  }
 },
 "nbformat": 4,
 "nbformat_minor": 2
}
